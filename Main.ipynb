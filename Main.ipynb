{
  "nbformat": 4,
  "nbformat_minor": 0,
  "metadata": {
    "colab": {
      "name": "Main Car Detection 2.ipynb",
      "provenance": [],
      "collapsed_sections": [],
      "mount_file_id": "1SNYKSVVeGvx4xUsPxu3rZDdbyIAGNVK_",
      "authorship_tag": "ABX9TyMvrAc3AVYC0sqw65zXNhWF",
      "include_colab_link": true
    },
    "kernelspec": {
      "display_name": "Python 3",
      "name": "python3"
    },
    "language_info": {
      "name": "python"
    }
  },
  "cells": [
    {
      "cell_type": "markdown",
      "metadata": {
        "id": "view-in-github",
        "colab_type": "text"
      },
      "source": [
        "<a href=\"https://colab.research.google.com/github/Pratye/Drone-Surveillance-Contest/blob/main/Main.ipynb\" target=\"_parent\"><img src=\"https://colab.research.google.com/assets/colab-badge.svg\" alt=\"Open In Colab\"/></a>"
      ]
    },
    {
      "cell_type": "code",
      "metadata": {
        "id": "81xomcbYYCCL"
      },
      "source": [
        "# Downloading Video\n",
        "!wget https://www.computervision.zone/wp-content/uploads/2021/07/DRONE-SURVEILLANCE-CONTEST-VIDEO.mp4"
      ],
      "execution_count": null,
      "outputs": []
    },
    {
      "cell_type": "markdown",
      "metadata": {
        "id": "M97Hb3WbtMoX"
      },
      "source": [
        "# Installing Opencv for YoloV4 \n",
        "Normal version doen not supports few activartion layers"
      ]
    },
    {
      "cell_type": "code",
      "metadata": {
        "id": "-WalhPS_Zd19"
      },
      "source": [
        "!pip uninstall opencv-python"
      ],
      "execution_count": null,
      "outputs": []
    },
    {
      "cell_type": "code",
      "metadata": {
        "id": "waUwzxDSuaBG"
      },
      "source": [
        "%cd /content\n",
        "!git clone https://github.com/opencv/opencv\n",
        "!git clone https://github.com/opencv/opencv_contrib\n",
        "!mkdir /content/build\n",
        "%cd /content/build\n",
        "!cmake -DOPENCV_EXTRA_MODULES_PATH=/content/opencv_contrib/modules /content/opencv\n",
        "!make -j8 install"
      ],
      "execution_count": null,
      "outputs": []
    },
    {
      "cell_type": "code",
      "metadata": {
        "colab": {
          "base_uri": "https://localhost:8080/",
          "height": 37
        },
        "id": "JY_e5NcQucYB",
        "outputId": "222e84d1-01d8-470e-eab9-84311ba190d8"
      },
      "source": [
        "import cv2\n",
        "cv2.__version__"
      ],
      "execution_count": null,
      "outputs": [
        {
          "output_type": "execute_result",
          "data": {
            "application/vnd.google.colaboratory.intrinsic+json": {
              "type": "string"
            },
            "text/plain": [
              "'4.5.3-dev'"
            ]
          },
          "metadata": {
            "tags": []
          },
          "execution_count": 7
        }
      ]
    },
    {
      "cell_type": "markdown",
      "metadata": {
        "id": "I_kNSn4VVpP8"
      },
      "source": [
        "# Main"
      ]
    },
    {
      "cell_type": "code",
      "metadata": {
        "id": "os1BauAVYgkm"
      },
      "source": [
        "import math\n",
        "import cv2 as cv\n",
        "\n",
        "class EuclideanDistTracker:\n",
        "    def __init__(self):\n",
        "        # Store the center positions of the objects\n",
        "        self.center_points = {}\n",
        "        # Keep the count of the IDs\n",
        "        # each time a new object id detected, the count will increase by one\n",
        "        self.id_count = 1\n",
        "\n",
        "\n",
        "    def update(self, objects_rect):\n",
        "        # Objects boxes and ids\n",
        "        objects_bbs_ids = []\n",
        "\n",
        "        # Get center point of new object\n",
        "        for rect in objects_rect:\n",
        "            x, y, w, h = rect\n",
        "            cx = (x + x + w) // 2\n",
        "            cy = (y + y + h) // 2\n",
        "\n",
        "            # Find out if that object was detected already\n",
        "            same_object_detected = False\n",
        "            for id, pt in self.center_points.items():\n",
        "                dist = math.hypot(cx - pt[0], cy - pt[1])\n",
        "\n",
        "                if dist<=30:\n",
        "                    self.center_points[id] = (cx, cy)\n",
        "                    #print(self.center_points)\n",
        "                    objects_bbs_ids.append([x, y, w, h, id])\n",
        "                    same_object_detected = True\n",
        "                    break\n",
        "\n",
        "            # New object is detected we assign the ID to that object\n",
        "            if same_object_detected is False and (300<cy<950):\n",
        "                self.center_points[self.id_count] = (cx, cy)\n",
        "                objects_bbs_ids.append([x, y, w, h, self.id_count])\n",
        "                self.id_count += 1\n",
        "\n",
        "        # Clean the dictionary by center points to remove IDS not used anymore\n",
        "        new_center_points = {}\n",
        "        for obj_bb_id in objects_bbs_ids:\n",
        "            _, _, _, _, object_id = obj_bb_id\n",
        "            center = self.center_points[object_id]\n",
        "            new_center_points[object_id] = center\n",
        "\n",
        "        # Update dictionary with IDs not used removed\n",
        "        self.center_points = new_center_points.copy()\n",
        "        return objects_bbs_ids\n",
        "\n"
      ],
      "execution_count": null,
      "outputs": []
    },
    {
      "cell_type": "code",
      "metadata": {
        "id": "qZ5cjcfW62zt"
      },
      "source": [
        "import cv2 as cv\n",
        "import numpy as np\n",
        "import time\n",
        "import math\n",
        "from google.colab.patches import cv2_imshow\n",
        "#from tracker import *\n",
        "\n",
        "Toplam_filtered = []\n",
        "\n",
        "# Create tracker object\n",
        "tracker = EuclideanDistTracker()\n",
        "\n",
        "# Load Yolo-Tiny ----------------------------------------------------------------------------------\n",
        "net = cv2.dnn.readNet( \"/content/yolov4-custom-detector.cfg\", \"/content/drive/MyDrive/Colab/darknet/build/darknet/x64/backup/yolov4-custom-detector_best.weights\") # the yolo model\n",
        "\n",
        "net.setPreferableBackend(cv.dnn.DNN_BACKEND_CUDA)\n",
        "net.setPreferableTarget(cv.dnn.DNN_TARGET_CUDA)\n",
        "print(cv.cuda.getCudaEnabledDeviceCount())\n",
        "\n",
        "classes = []\n",
        "with open(\"/content/obj.names\", \"r\") as f:\n",
        "    classes = [line.strip() for line in f.readlines()]\n",
        "\n",
        "layer_names = net.getLayerNames()\n",
        "output_layers = [layer_names[i[0] - 1] for i in net.getUnconnectedOutLayers()]\n",
        "\n",
        "# Loading video ------------------------------------------------------------------------\n",
        "cap = cv.VideoCapture(\"/content/DRONE-SURVEILLANCE-CONTEST-VIDEO.mp4\")\n",
        "cap.set(3, 1920)  # set video widht\n",
        "cap.set(4, 1080)  # set video height\n",
        "\n",
        "font = cv.FONT_HERSHEY_COMPLEX_SMALL\n",
        "starting_time = time.time()\n",
        "frame_id = 0\n",
        "toplam = 0\n",
        "t = 0\n",
        "say = 0\n",
        "# Definig Output Video\n",
        "video = cv2.VideoWriter('/content/video.avi', 0, 30, (1920, 1080))\n",
        "# Start --------------------------------------------------------------------------------------\n",
        "for q in range(1,683): #683\n",
        "    # Get frame\n",
        "    _, frame = cap.read()\n",
        "\n",
        "    frame_id += 1\n",
        "    if frame_id % 1 != 0:\n",
        "        continue\n",
        "\n",
        "    height, width, channels = frame.shape\n",
        "\n",
        "    # Detecting objects\n",
        "    blob = cv.dnn.blobFromImage(frame, 0.00261, (416, 416), (0, 0, 0), True, crop=False)\n",
        "    net.setInput(blob)\n",
        "\n",
        "    outs = net.forward(output_layers)\n",
        "\n",
        "    result = []\n",
        "    boxes = []\n",
        "    liste = []\n",
        "    for out in outs:\n",
        "        for detection in out:\n",
        "            scores = detection[5:]\n",
        "            class_id = np.argmax(scores)\n",
        "            confidence = scores[class_id]\n",
        "            if confidence > 0.8:\n",
        "                # Object detected\n",
        "                center_x = int(detection[0] * width)\n",
        "                center_y = int(detection[1] * height)\n",
        "                w = int(detection[2] * width)\n",
        "                h = int(detection[3] * height)\n",
        "\n",
        "                # Rectangle coordinates\n",
        "                x = int(center_x - w / 2)\n",
        "                y = int(center_y - h / 2)\n",
        "\n",
        "                boxes.append([x, y, w, h])\n",
        "\n",
        "    boxes_ids = tracker.update(boxes)\n",
        "\n",
        "    # Filtering some issues -----------------------------------------------------------------------------\n",
        "    eklenecekler = []\n",
        "    filtered = []\n",
        "\n",
        "    for i in range(len(boxes_ids)):\n",
        "        if boxes_ids[i][4] not in eklenecekler:\n",
        "            eklenecekler.append(boxes_ids[i][4])\n",
        "            filtered.append(boxes_ids[i])\n",
        "\n",
        "    for box_id in filtered:\n",
        "        x, y, w, h, id = box_id\n",
        "\n",
        "        cv.rectangle(frame, (x, y), (x + w , y + h), (0, 0, 255), 2)\n",
        "        cv.rectangle(frame, (x, y), (x + w//3 +1, y + w//4), (255,0,0), -1)\n",
        "        cv.putText(frame, str(id), (x, y+w//5), cv.FONT_HERSHEY_PLAIN, 1.5, (255, 255, 255), 2)\n",
        "        \n",
        "    Toplam_filtered = [*Toplam_filtered, *filtered]\n",
        "\n",
        "    # Total car count -------------------------------------------------------------------------------------------------------\n",
        "    try:\n",
        "        _, _, _, _, value = max(filtered, key=lambda item: item[4])\n",
        "        if value > toplam:\n",
        "            toplam = value\n",
        "    except:\n",
        "        pass\n",
        "\n",
        "    # Some texts -------------------------------------------------------------------------------------------------------------\n",
        "    cv.putText(frame, \"Pratye Aggarwal\", (820, 90), font, 2.5, (0, 0, 255), 2)\n",
        "    cv.putText(frame, str(toplam), (1700, 90), font, 3, (0, 0, 255), 3)\n",
        "\n",
        "    if t!=toplam and toplam%12==0:\n",
        "      print('==>',toplam)\n",
        "      t=toplam\n",
        "    elif t!=toplam:\n",
        "      print('->',toplam)\n",
        "      t=toplam\n",
        "\n",
        "\n",
        "    # Final ------------------------------------------------------------------------------------------------------------------\n",
        "    video.write(frame) \n",
        "\n",
        "\n",
        "cap.release()\n",
        "video.release() \n"
      ],
      "execution_count": null,
      "outputs": []
    },
    {
      "cell_type": "markdown",
      "metadata": {
        "id": "SgGuz-a8dEQN"
      },
      "source": [
        "# Convert Video.avi to mp4"
      ]
    },
    {
      "cell_type": "code",
      "metadata": {
        "id": "qwP9p7aUhEZU"
      },
      "source": [
        "!pip install MoviePy\n",
        "\n",
        "import moviepy.editor as moviepy\n",
        "clip = moviepy.VideoFileClip(\"/content/video.avi\")\n",
        "clip.write_videofile(\"Video.mp4\")"
      ],
      "execution_count": null,
      "outputs": []
    }
  ]
}